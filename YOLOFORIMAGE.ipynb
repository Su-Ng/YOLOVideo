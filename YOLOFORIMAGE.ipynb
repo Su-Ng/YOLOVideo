{
 "cells": [
  {
   "cell_type": "code",
   "execution_count": 2,
   "metadata": {},
   "outputs": [
    {
     "name": "stdout",
     "output_type": "stream",
     "text": [
      "traffic light  :  55.387598276138306  :  [236, 3, 256, 25]\n",
      "--------------------------------\n",
      "traffic light  :  83.30214023590088  :  [262, 7, 282, 30]\n",
      "--------------------------------\n",
      "traffic light  :  61.53426766395569  :  [676, 17, 698, 50]\n",
      "--------------------------------\n",
      "person  :  54.32333946228027  :  [366, 87, 384, 105]\n",
      "--------------------------------\n",
      "person  :  34.23270285129547  :  [619, 91, 644, 115]\n",
      "--------------------------------\n",
      "car  :  98.87316226959229  :  [100, 87, 218, 125]\n",
      "--------------------------------\n",
      "person  :  58.20416808128357  :  [516, 86, 542, 147]\n",
      "--------------------------------\n",
      "person  :  72.27804660797119  :  [472, 93, 508, 155]\n",
      "--------------------------------\n"
     ]
    }
   ],
   "source": [
    "from imageai.Detection import ObjectDetection\n",
    "import os\n",
    "\n",
    "execution_path = os.getcwd()\n",
    "\n",
    "detector = ObjectDetection()\n",
    "detector.setModelTypeAsYOLOv3()\n",
    "detector.setModelPath( os.path.join(execution_path , \"yolo.h5\"))\n",
    "detector.loadModel()\n",
    "detections = detector.detectObjectsFromImage(input_image=os.path.join(execution_path , \"image.png\"), output_image_path=os.path.join(execution_path , \"imagenew.png\"), minimum_percentage_probability=30)\n",
    "\n",
    "for eachObject in detections:\n",
    "    print(eachObject[\"name\"] , \" : \", eachObject[\"percentage_probability\"], \" : \", eachObject[\"box_points\"] )\n",
    "    print(\"--------------------------------\")\n"
   ]
  },
  {
   "cell_type": "code",
   "execution_count": null,
   "metadata": {},
   "outputs": [],
   "source": []
  }
 ],
 "metadata": {
  "kernelspec": {
   "display_name": "Python 3",
   "language": "python",
   "name": "python3"
  },
  "language_info": {
   "codemirror_mode": {
    "name": "ipython",
    "version": 3
   },
   "file_extension": ".py",
   "mimetype": "text/x-python",
   "name": "python",
   "nbconvert_exporter": "python",
   "pygments_lexer": "ipython3",
   "version": "3.6.10"
  }
 },
 "nbformat": 4,
 "nbformat_minor": 2
}
